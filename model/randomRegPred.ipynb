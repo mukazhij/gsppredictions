{
 "cells": [
  {
   "cell_type": "code",
   "execution_count": 2,
   "id": "304260f4-53ad-4f7c-bea3-f7d446136d00",
   "metadata": {},
   "outputs": [],
   "source": [
    "#gold model to predict future price of gold\n",
    "\n",
    "#importing liabraries\n",
    "import pandas as pd\n",
    "import numpy as np\n",
    "from sklearn.ensemble import RandomForestRegressor\n",
    "import matplotlib.pyplot as plt\n",
    "import yfinance as yf"
   ]
  },
  {
   "cell_type": "code",
   "execution_count": 3,
   "id": "7671be17-4b0c-4f21-9b07-1f0139597e94",
   "metadata": {},
   "outputs": [],
   "source": [
    "GOLD =yf.Ticker(\"GC=F\")  #ENABLES download of the prices"
   ]
  },
  {
   "cell_type": "code",
   "execution_count": 4,
   "id": "271fa7a7",
   "metadata": {},
   "outputs": [],
   "source": [
    "GOLD=GOLD.history(period=\"max\")  #querry all data from the begining when the index was created."
   ]
  },
  {
   "cell_type": "code",
   "execution_count": 21,
   "id": "b45010ff-5aff-46ec-9f9a-12fd1b50d25f",
   "metadata": {},
   "outputs": [
    {
     "data": {
      "text/html": [
       "<div>\n",
       "<style scoped>\n",
       "    .dataframe tbody tr th:only-of-type {\n",
       "        vertical-align: middle;\n",
       "    }\n",
       "\n",
       "    .dataframe tbody tr th {\n",
       "        vertical-align: top;\n",
       "    }\n",
       "\n",
       "    .dataframe thead th {\n",
       "        text-align: right;\n",
       "    }\n",
       "</style>\n",
       "<table border=\"1\" class=\"dataframe\">\n",
       "  <thead>\n",
       "    <tr style=\"text-align: right;\">\n",
       "      <th></th>\n",
       "      <th>Open</th>\n",
       "      <th>High</th>\n",
       "      <th>Low</th>\n",
       "      <th>Close</th>\n",
       "      <th>Volume</th>\n",
       "    </tr>\n",
       "    <tr>\n",
       "      <th>Date</th>\n",
       "      <th></th>\n",
       "      <th></th>\n",
       "      <th></th>\n",
       "      <th></th>\n",
       "      <th></th>\n",
       "    </tr>\n",
       "  </thead>\n",
       "  <tbody>\n",
       "    <tr>\n",
       "      <th>2000-08-30 00:00:00-04:00</th>\n",
       "      <td>273.899994</td>\n",
       "      <td>273.899994</td>\n",
       "      <td>273.899994</td>\n",
       "      <td>273.899994</td>\n",
       "      <td>0</td>\n",
       "    </tr>\n",
       "    <tr>\n",
       "      <th>2000-08-31 00:00:00-04:00</th>\n",
       "      <td>274.799988</td>\n",
       "      <td>278.299988</td>\n",
       "      <td>274.799988</td>\n",
       "      <td>278.299988</td>\n",
       "      <td>0</td>\n",
       "    </tr>\n",
       "    <tr>\n",
       "      <th>2000-09-01 00:00:00-04:00</th>\n",
       "      <td>277.000000</td>\n",
       "      <td>277.000000</td>\n",
       "      <td>277.000000</td>\n",
       "      <td>277.000000</td>\n",
       "      <td>0</td>\n",
       "    </tr>\n",
       "    <tr>\n",
       "      <th>2000-09-05 00:00:00-04:00</th>\n",
       "      <td>275.799988</td>\n",
       "      <td>275.799988</td>\n",
       "      <td>275.799988</td>\n",
       "      <td>275.799988</td>\n",
       "      <td>2</td>\n",
       "    </tr>\n",
       "    <tr>\n",
       "      <th>2000-09-06 00:00:00-04:00</th>\n",
       "      <td>274.200012</td>\n",
       "      <td>274.200012</td>\n",
       "      <td>274.200012</td>\n",
       "      <td>274.200012</td>\n",
       "      <td>0</td>\n",
       "    </tr>\n",
       "    <tr>\n",
       "      <th>...</th>\n",
       "      <td>...</td>\n",
       "      <td>...</td>\n",
       "      <td>...</td>\n",
       "      <td>...</td>\n",
       "      <td>...</td>\n",
       "    </tr>\n",
       "    <tr>\n",
       "      <th>2023-05-23 00:00:00-04:00</th>\n",
       "      <td>1972.400024</td>\n",
       "      <td>1972.400024</td>\n",
       "      <td>1972.400024</td>\n",
       "      <td>1972.400024</td>\n",
       "      <td>1</td>\n",
       "    </tr>\n",
       "    <tr>\n",
       "      <th>2023-05-24 00:00:00-04:00</th>\n",
       "      <td>1975.400024</td>\n",
       "      <td>1975.400024</td>\n",
       "      <td>1962.800049</td>\n",
       "      <td>1962.800049</td>\n",
       "      <td>189</td>\n",
       "    </tr>\n",
       "    <tr>\n",
       "      <th>2023-05-25 00:00:00-04:00</th>\n",
       "      <td>1943.099976</td>\n",
       "      <td>1943.099976</td>\n",
       "      <td>1943.099976</td>\n",
       "      <td>1943.099976</td>\n",
       "      <td>1</td>\n",
       "    </tr>\n",
       "    <tr>\n",
       "      <th>2023-05-26 00:00:00-04:00</th>\n",
       "      <td>1948.199951</td>\n",
       "      <td>1948.400024</td>\n",
       "      <td>1944.099976</td>\n",
       "      <td>1944.099976</td>\n",
       "      <td>1</td>\n",
       "    </tr>\n",
       "    <tr>\n",
       "      <th>2023-05-29 00:00:00-04:00</th>\n",
       "      <td>1961.300049</td>\n",
       "      <td>1966.699951</td>\n",
       "      <td>1958.000000</td>\n",
       "      <td>1965.599976</td>\n",
       "      <td>37059</td>\n",
       "    </tr>\n",
       "  </tbody>\n",
       "</table>\n",
       "<p>5708 rows × 5 columns</p>\n",
       "</div>"
      ],
      "text/plain": [
       "                                  Open         High          Low        Close  \\\n",
       "Date                                                                            \n",
       "2000-08-30 00:00:00-04:00   273.899994   273.899994   273.899994   273.899994   \n",
       "2000-08-31 00:00:00-04:00   274.799988   278.299988   274.799988   278.299988   \n",
       "2000-09-01 00:00:00-04:00   277.000000   277.000000   277.000000   277.000000   \n",
       "2000-09-05 00:00:00-04:00   275.799988   275.799988   275.799988   275.799988   \n",
       "2000-09-06 00:00:00-04:00   274.200012   274.200012   274.200012   274.200012   \n",
       "...                                ...          ...          ...          ...   \n",
       "2023-05-23 00:00:00-04:00  1972.400024  1972.400024  1972.400024  1972.400024   \n",
       "2023-05-24 00:00:00-04:00  1975.400024  1975.400024  1962.800049  1962.800049   \n",
       "2023-05-25 00:00:00-04:00  1943.099976  1943.099976  1943.099976  1943.099976   \n",
       "2023-05-26 00:00:00-04:00  1948.199951  1948.400024  1944.099976  1944.099976   \n",
       "2023-05-29 00:00:00-04:00  1961.300049  1966.699951  1958.000000  1965.599976   \n",
       "\n",
       "                           Volume  \n",
       "Date                               \n",
       "2000-08-30 00:00:00-04:00       0  \n",
       "2000-08-31 00:00:00-04:00       0  \n",
       "2000-09-01 00:00:00-04:00       0  \n",
       "2000-09-05 00:00:00-04:00       2  \n",
       "2000-09-06 00:00:00-04:00       0  \n",
       "...                           ...  \n",
       "2023-05-23 00:00:00-04:00       1  \n",
       "2023-05-24 00:00:00-04:00     189  \n",
       "2023-05-25 00:00:00-04:00       1  \n",
       "2023-05-26 00:00:00-04:00       1  \n",
       "2023-05-29 00:00:00-04:00   37059  \n",
       "\n",
       "[5708 rows x 5 columns]"
      ]
     },
     "execution_count": 21,
     "metadata": {},
     "output_type": "execute_result"
    }
   ],
   "source": [
    "GOLD"
   ]
  },
  {
   "cell_type": "code",
   "execution_count": 6,
   "id": "49086328-e753-4b31-a78e-bd14ccf9f691",
   "metadata": {},
   "outputs": [
    {
     "data": {
      "text/plain": [
       "DatetimeIndex(['2000-08-30 00:00:00-04:00', '2000-08-31 00:00:00-04:00',\n",
       "               '2000-09-01 00:00:00-04:00', '2000-09-05 00:00:00-04:00',\n",
       "               '2000-09-06 00:00:00-04:00', '2000-09-07 00:00:00-04:00',\n",
       "               '2000-09-08 00:00:00-04:00', '2000-09-11 00:00:00-04:00',\n",
       "               '2000-09-12 00:00:00-04:00', '2000-09-13 00:00:00-04:00',\n",
       "               ...\n",
       "               '2023-05-16 00:00:00-04:00', '2023-05-17 00:00:00-04:00',\n",
       "               '2023-05-18 00:00:00-04:00', '2023-05-19 00:00:00-04:00',\n",
       "               '2023-05-22 00:00:00-04:00', '2023-05-23 00:00:00-04:00',\n",
       "               '2023-05-24 00:00:00-04:00', '2023-05-25 00:00:00-04:00',\n",
       "               '2023-05-26 00:00:00-04:00', '2023-05-29 00:00:00-04:00'],\n",
       "              dtype='datetime64[ns, America/New_York]', name='Date', length=5708, freq=None)"
      ]
     },
     "execution_count": 6,
     "metadata": {},
     "output_type": "execute_result"
    }
   ],
   "source": [
    "GOLD.index  #show the datetime index that help us to slice the data easily."
   ]
  },
  {
   "cell_type": "code",
   "execution_count": 7,
   "id": "f55cb9c6-231c-4f65-a9cf-9e7c22f7dded",
   "metadata": {},
   "outputs": [
    {
     "data": {
      "text/plain": [
       "<AxesSubplot:xlabel='Date'>"
      ]
     },
     "execution_count": 7,
     "metadata": {},
     "output_type": "execute_result"
    },
    {
     "data": {
      "image/png": "[encoded data removed]",
      "text/plain": [
       "<Figure size 432x288 with 1 Axes>"
      ]
     },
     "metadata": {
      "needs_background": "light"
     },
     "output_type": "display_data"
    }
   ],
   "source": [
    "#plotting closing price of data on trading days\n",
    "GOLD.plot.line(y=\"Close\", use_index=True)"
   ]
  },
  {
   "cell_type": "code",
   "execution_count": 8,
   "id": "fb4fbd68-2b18-451f-bec0-fc71025f6362",
   "metadata": {},
   "outputs": [],
   "source": [
    "#deleting unessesary columns\n",
    "del GOLD[\"Dividends\"]\n",
    "del GOLD[\"Stock Splits\"]"
   ]
  },
  {
   "cell_type": "code",
   "execution_count": 9,
   "id": "5241908a-3eef-4c79-bd81-5a07a3d44791",
   "metadata": {},
   "outputs": [
    {
     "data": {
      "text/html": [
       "<div>\n",
       "<style scoped>\n",
       "    .dataframe tbody tr th:only-of-type {\n",
       "        vertical-align: middle;\n",
       "    }\n",
       "\n",
       "    .dataframe tbody tr th {\n",
       "        vertical-align: top;\n",
       "    }\n",
       "\n",
       "    .dataframe thead th {\n",
       "        text-align: right;\n",
       "    }\n",
       "</style>\n",
       "<table border=\"1\" class=\"dataframe\">\n",
       "  <thead>\n",
       "    <tr style=\"text-align: right;\">\n",
       "      <th></th>\n",
       "      <th>Open</th>\n",
       "      <th>High</th>\n",
       "      <th>Low</th>\n",
       "      <th>Close</th>\n",
       "      <th>Volume</th>\n",
       "    </tr>\n",
       "    <tr>\n",
       "      <th>Date</th>\n",
       "      <th></th>\n",
       "      <th></th>\n",
       "      <th></th>\n",
       "      <th></th>\n",
       "      <th></th>\n",
       "    </tr>\n",
       "  </thead>\n",
       "  <tbody>\n",
       "    <tr>\n",
       "      <th>2000-08-30 00:00:00-04:00</th>\n",
       "      <td>273.899994</td>\n",
       "      <td>273.899994</td>\n",
       "      <td>273.899994</td>\n",
       "      <td>273.899994</td>\n",
       "      <td>0</td>\n",
       "    </tr>\n",
       "    <tr>\n",
       "      <th>2000-08-31 00:00:00-04:00</th>\n",
       "      <td>274.799988</td>\n",
       "      <td>278.299988</td>\n",
       "      <td>274.799988</td>\n",
       "      <td>278.299988</td>\n",
       "      <td>0</td>\n",
       "    </tr>\n",
       "    <tr>\n",
       "      <th>2000-09-01 00:00:00-04:00</th>\n",
       "      <td>277.000000</td>\n",
       "      <td>277.000000</td>\n",
       "      <td>277.000000</td>\n",
       "      <td>277.000000</td>\n",
       "      <td>0</td>\n",
       "    </tr>\n",
       "    <tr>\n",
       "      <th>2000-09-05 00:00:00-04:00</th>\n",
       "      <td>275.799988</td>\n",
       "      <td>275.799988</td>\n",
       "      <td>275.799988</td>\n",
       "      <td>275.799988</td>\n",
       "      <td>2</td>\n",
       "    </tr>\n",
       "    <tr>\n",
       "      <th>2000-09-06 00:00:00-04:00</th>\n",
       "      <td>274.200012</td>\n",
       "      <td>274.200012</td>\n",
       "      <td>274.200012</td>\n",
       "      <td>274.200012</td>\n",
       "      <td>0</td>\n",
       "    </tr>\n",
       "    <tr>\n",
       "      <th>...</th>\n",
       "      <td>...</td>\n",
       "      <td>...</td>\n",
       "      <td>...</td>\n",
       "      <td>...</td>\n",
       "      <td>...</td>\n",
       "    </tr>\n",
       "    <tr>\n",
       "      <th>2023-05-23 00:00:00-04:00</th>\n",
       "      <td>1972.400024</td>\n",
       "      <td>1972.400024</td>\n",
       "      <td>1972.400024</td>\n",
       "      <td>1972.400024</td>\n",
       "      <td>1</td>\n",
       "    </tr>\n",
       "    <tr>\n",
       "      <th>2023-05-24 00:00:00-04:00</th>\n",
       "      <td>1975.400024</td>\n",
       "      <td>1975.400024</td>\n",
       "      <td>1962.800049</td>\n",
       "      <td>1962.800049</td>\n",
       "      <td>189</td>\n",
       "    </tr>\n",
       "    <tr>\n",
       "      <th>2023-05-25 00:00:00-04:00</th>\n",
       "      <td>1943.099976</td>\n",
       "      <td>1943.099976</td>\n",
       "      <td>1943.099976</td>\n",
       "      <td>1943.099976</td>\n",
       "      <td>1</td>\n",
       "    </tr>\n",
       "    <tr>\n",
       "      <th>2023-05-26 00:00:00-04:00</th>\n",
       "      <td>1948.199951</td>\n",
       "      <td>1948.400024</td>\n",
       "      <td>1944.099976</td>\n",
       "      <td>1944.099976</td>\n",
       "      <td>1</td>\n",
       "    </tr>\n",
       "    <tr>\n",
       "      <th>2023-05-29 00:00:00-04:00</th>\n",
       "      <td>1961.300049</td>\n",
       "      <td>1966.699951</td>\n",
       "      <td>1958.000000</td>\n",
       "      <td>1965.599976</td>\n",
       "      <td>37059</td>\n",
       "    </tr>\n",
       "  </tbody>\n",
       "</table>\n",
       "<p>5708 rows × 5 columns</p>\n",
       "</div>"
      ],
      "text/plain": [
       "                                  Open         High          Low        Close  \\\n",
       "Date                                                                            \n",
       "2000-08-30 00:00:00-04:00   273.899994   273.899994   273.899994   273.899994   \n",
       "2000-08-31 00:00:00-04:00   274.799988   278.299988   274.799988   278.299988   \n",
       "2000-09-01 00:00:00-04:00   277.000000   277.000000   277.000000   277.000000   \n",
       "2000-09-05 00:00:00-04:00   275.799988   275.799988   275.799988   275.799988   \n",
       "2000-09-06 00:00:00-04:00   274.200012   274.200012   274.200012   274.200012   \n",
       "...                                ...          ...          ...          ...   \n",
       "2023-05-23 00:00:00-04:00  1972.400024  1972.400024  1972.400024  1972.400024   \n",
       "2023-05-24 00:00:00-04:00  1975.400024  1975.400024  1962.800049  1962.800049   \n",
       "2023-05-25 00:00:00-04:00  1943.099976  1943.099976  1943.099976  1943.099976   \n",
       "2023-05-26 00:00:00-04:00  1948.199951  1948.400024  1944.099976  1944.099976   \n",
       "2023-05-29 00:00:00-04:00  1961.300049  1966.699951  1958.000000  1965.599976   \n",
       "\n",
       "                           Volume  \n",
       "Date                               \n",
       "2000-08-30 00:00:00-04:00       0  \n",
       "2000-08-31 00:00:00-04:00       0  \n",
       "2000-09-01 00:00:00-04:00       0  \n",
       "2000-09-05 00:00:00-04:00       2  \n",
       "2000-09-06 00:00:00-04:00       0  \n",
       "...                           ...  \n",
       "2023-05-23 00:00:00-04:00       1  \n",
       "2023-05-24 00:00:00-04:00     189  \n",
       "2023-05-25 00:00:00-04:00       1  \n",
       "2023-05-26 00:00:00-04:00       1  \n",
       "2023-05-29 00:00:00-04:00   37059  \n",
       "\n",
       "[5708 rows x 5 columns]"
      ]
     },
     "execution_count": 9,
     "metadata": {},
     "output_type": "execute_result"
    }
   ],
   "source": [
    "GOLD"
   ]
  },
  {
   "cell_type": "code",
   "execution_count": 10,
   "id": "08fe0bee-9962-462d-a87b-2f349f443231",
   "metadata": {},
   "outputs": [
    {
     "data": {
      "text/plain": [
       "<AxesSubplot:xlabel='Date'>"
      ]
     },
     "execution_count": 10,
     "metadata": {},
     "output_type": "execute_result"
    },
    {
     "data": {
      "image/png": "[encoded data removed]",
      "text/plain": [
       "<Figure size 432x288 with 1 Axes>"
      ]
     },
     "metadata": {
      "needs_background": "light"
     },
     "output_type": "display_data"
    }
   ],
   "source": [
    "GOLD.plot.line(y=\"Close\")"
   ]
  },
  {
   "cell_type": "code",
   "execution_count": 94,
   "id": "d64c5c66-9ca7-46bf-b039-c8e9384032c6",
   "metadata": {},
   "outputs": [],
   "source": [
    "#creating the model\n",
    "model = RandomForestRegressor()"
   ]
  },
  {
   "cell_type": "code",
   "execution_count": 95,
   "id": "86a5be49-e555-4a72-9f42-55d90879b905",
   "metadata": {},
   "outputs": [
    {
     "data": {
      "text/plain": [
       "RandomForestRegressor()"
      ]
     },
     "execution_count": 95,
     "metadata": {},
     "output_type": "execute_result"
    }
   ],
   "source": [
    "#training the model\n",
    "X = GOLD[['Open','High','Low','Volume']]\n",
    "#collecting all data in rows except the last one so that we can test the model\n",
    "X = X[:int(len(GOLD)-1)]\n",
    "#creating the target dataset which is the closing price\n",
    "y = GOLD['Close']\n",
    "#collecting close prices except for the last one\n",
    "y = y[:int(len(GOLD)-1)]\n",
    "#fit is another term for training.\n",
    "model.fit(X,y)"
   ]
  },
  {
   "cell_type": "code",
   "execution_count": 96,
   "id": "2f1ec8fd-7c6a-4169-95ad-0b6919440571",
   "metadata": {},
   "outputs": [
    {
     "name": "stdout",
     "output_type": "stream",
     "text": [
      "The model score is: 0.9999817647404498\n"
     ]
    }
   ],
   "source": [
    "#testing the model\n",
    "predictions = model.predict(X)\n",
    "print('The model score is:', model.score(X,y))"
   ]
  },
  {
   "cell_type": "code",
   "execution_count": 97,
   "id": "72043130-ac99-4a94-acfc-723971848baf",
   "metadata": {},
   "outputs": [
    {
     "name": "stdout",
     "output_type": "stream",
     "text": [
      "The prediction is: [1961.58498413]\n"
     ]
    }
   ],
   "source": [
    "#Making the predictions\n",
    "new_data= GOLD[['Open','High','Low','Volume']].tail(1)\n",
    "prediction = model.predict(new_data)\n",
    "print('The prediction is:', prediction)"
   ]
  },
  {
   "cell_type": "code",
   "execution_count": 15,
   "id": "4bc95c8c-7f19-42f6-8c2b-6696a776c281",
   "metadata": {},
   "outputs": [],
   "source": [
    "import pickle"
   ]
  },
  {
   "cell_type": "code",
   "execution_count": 98,
   "id": "ce8b11b8-1bb1-4bff-be2a-c0582d66e1b4",
   "metadata": {},
   "outputs": [],
   "source": [
    "pickle.dump(model, open('C:/Users/_Emjay04/Downloads/model/randRegfile', 'wb'))"
   ]
  },
  {
   "cell_type": "code",
   "execution_count": 99,
   "id": "646c596d",
   "metadata": {},
   "outputs": [],
   "source": [
    "model_loaded = pickle.load(open('C:/Users/_Emjay04/Downloads/model/randRegfile', 'rb'))"
   ]
  },
  {
   "cell_type": "code",
   "execution_count": 100,
   "id": "b77bddf3",
   "metadata": {},
   "outputs": [
    {
     "data": {
      "text/plain": [
       "array([1961.58498413])"
      ]
     },
     "execution_count": 100,
     "metadata": {},
     "output_type": "execute_result"
    }
   ],
   "source": [
    "model_loaded.predict(new_data)"
   ]
  },
  {
   "cell_type": "code",
   "execution_count": 26,
   "id": "b91cfaba",
   "metadata": {},
   "outputs": [],
   "source": [
    "import joblib"
   ]
  },
  {
   "cell_type": "code",
   "execution_count": 27,
   "id": "70783aef",
   "metadata": {},
   "outputs": [
    {
     "data": {
      "text/plain": [
       "['C:/Users/_Emjay04/Downloads/model/randRegfile2']"
      ]
     },
     "execution_count": 27,
     "metadata": {},
     "output_type": "execute_result"
    }
   ],
   "source": [
    "joblib.dump(model, 'C:/Users/_Emjay04/Downloads/model/randRegfile2')"
   ]
  },
  {
   "cell_type": "code",
   "execution_count": 28,
   "id": "3892f664",
   "metadata": {},
   "outputs": [],
   "source": [
    "model_loaded2 = joblib.load('C:/Users/_Emjay04/Downloads/model/randRegfile2')"
   ]
  },
  {
   "cell_type": "code",
   "execution_count": 29,
   "id": "dfff5c52",
   "metadata": {},
   "outputs": [
    {
     "data": {
      "text/plain": [
       "array([1961.62898804])"
      ]
     },
     "execution_count": 29,
     "metadata": {},
     "output_type": "execute_result"
    }
   ],
   "source": [
    "model_loaded2.predict(new_data)"
   ]
  },
  {
   "cell_type": "code",
   "execution_count": 48,
   "id": "cfb6d98e",
   "metadata": {},
   "outputs": [],
   "source": [
    "SILVER =yf.Ticker(\"SI=F\") #SILVER DATA FILES"
   ]
  },
  {
   "cell_type": "code",
   "execution_count": 49,
   "id": "7379ad0a",
   "metadata": {},
   "outputs": [],
   "source": [
    "SILVER=SILVER.history(period=\"max\")"
   ]
  },
  {
   "cell_type": "code",
   "execution_count": 50,
   "id": "b33529a0",
   "metadata": {},
   "outputs": [
    {
     "data": {
      "text/html": [
       "<div>\n",
       "<style scoped>\n",
       "    .dataframe tbody tr th:only-of-type {\n",
       "        vertical-align: middle;\n",
       "    }\n",
       "\n",
       "    .dataframe tbody tr th {\n",
       "        vertical-align: top;\n",
       "    }\n",
       "\n",
       "    .dataframe thead th {\n",
       "        text-align: right;\n",
       "    }\n",
       "</style>\n",
       "<table border=\"1\" class=\"dataframe\">\n",
       "  <thead>\n",
       "    <tr style=\"text-align: right;\">\n",
       "      <th></th>\n",
       "      <th>Open</th>\n",
       "      <th>High</th>\n",
       "      <th>Low</th>\n",
       "      <th>Close</th>\n",
       "      <th>Volume</th>\n",
       "      <th>Dividends</th>\n",
       "      <th>Stock Splits</th>\n",
       "    </tr>\n",
       "    <tr>\n",
       "      <th>Date</th>\n",
       "      <th></th>\n",
       "      <th></th>\n",
       "      <th></th>\n",
       "      <th></th>\n",
       "      <th></th>\n",
       "      <th></th>\n",
       "      <th></th>\n",
       "    </tr>\n",
       "  </thead>\n",
       "  <tbody>\n",
       "    <tr>\n",
       "      <th>2000-08-30 00:00:00-04:00</th>\n",
       "      <td>4.950000</td>\n",
       "      <td>4.950000</td>\n",
       "      <td>4.895000</td>\n",
       "      <td>4.930000</td>\n",
       "      <td>2319</td>\n",
       "      <td>0.0</td>\n",
       "      <td>0.0</td>\n",
       "    </tr>\n",
       "    <tr>\n",
       "      <th>2000-08-31 00:00:00-04:00</th>\n",
       "      <td>4.920000</td>\n",
       "      <td>5.045000</td>\n",
       "      <td>4.920000</td>\n",
       "      <td>5.003000</td>\n",
       "      <td>1612</td>\n",
       "      <td>0.0</td>\n",
       "      <td>0.0</td>\n",
       "    </tr>\n",
       "    <tr>\n",
       "      <th>2000-09-01 00:00:00-04:00</th>\n",
       "      <td>5.035000</td>\n",
       "      <td>5.035000</td>\n",
       "      <td>4.985000</td>\n",
       "      <td>5.004000</td>\n",
       "      <td>1375</td>\n",
       "      <td>0.0</td>\n",
       "      <td>0.0</td>\n",
       "    </tr>\n",
       "    <tr>\n",
       "      <th>2000-09-05 00:00:00-04:00</th>\n",
       "      <td>4.990000</td>\n",
       "      <td>5.005000</td>\n",
       "      <td>4.975000</td>\n",
       "      <td>4.998000</td>\n",
       "      <td>856</td>\n",
       "      <td>0.0</td>\n",
       "      <td>0.0</td>\n",
       "    </tr>\n",
       "    <tr>\n",
       "      <th>2000-09-06 00:00:00-04:00</th>\n",
       "      <td>5.000000</td>\n",
       "      <td>5.000000</td>\n",
       "      <td>4.980000</td>\n",
       "      <td>4.983000</td>\n",
       "      <td>232</td>\n",
       "      <td>0.0</td>\n",
       "      <td>0.0</td>\n",
       "    </tr>\n",
       "    <tr>\n",
       "      <th>...</th>\n",
       "      <td>...</td>\n",
       "      <td>...</td>\n",
       "      <td>...</td>\n",
       "      <td>...</td>\n",
       "      <td>...</td>\n",
       "      <td>...</td>\n",
       "      <td>...</td>\n",
       "    </tr>\n",
       "    <tr>\n",
       "      <th>2023-05-23 00:00:00-04:00</th>\n",
       "      <td>23.500000</td>\n",
       "      <td>23.629999</td>\n",
       "      <td>23.150000</td>\n",
       "      <td>23.474001</td>\n",
       "      <td>176</td>\n",
       "      <td>0.0</td>\n",
       "      <td>0.0</td>\n",
       "    </tr>\n",
       "    <tr>\n",
       "      <th>2023-05-24 00:00:00-04:00</th>\n",
       "      <td>23.434999</td>\n",
       "      <td>23.480000</td>\n",
       "      <td>23.065001</td>\n",
       "      <td>23.115000</td>\n",
       "      <td>13</td>\n",
       "      <td>0.0</td>\n",
       "      <td>0.0</td>\n",
       "    </tr>\n",
       "    <tr>\n",
       "      <th>2023-05-25 00:00:00-04:00</th>\n",
       "      <td>22.870001</td>\n",
       "      <td>22.985001</td>\n",
       "      <td>22.785999</td>\n",
       "      <td>22.785999</td>\n",
       "      <td>23</td>\n",
       "      <td>0.0</td>\n",
       "      <td>0.0</td>\n",
       "    </tr>\n",
       "    <tr>\n",
       "      <th>2023-05-26 00:00:00-04:00</th>\n",
       "      <td>23.129999</td>\n",
       "      <td>23.240000</td>\n",
       "      <td>23.115000</td>\n",
       "      <td>23.240000</td>\n",
       "      <td>23</td>\n",
       "      <td>0.0</td>\n",
       "      <td>0.0</td>\n",
       "    </tr>\n",
       "    <tr>\n",
       "      <th>2023-05-29 00:00:00-04:00</th>\n",
       "      <td>23.424999</td>\n",
       "      <td>23.510000</td>\n",
       "      <td>23.280001</td>\n",
       "      <td>23.344999</td>\n",
       "      <td>19369</td>\n",
       "      <td>0.0</td>\n",
       "      <td>0.0</td>\n",
       "    </tr>\n",
       "  </tbody>\n",
       "</table>\n",
       "<p>5708 rows × 7 columns</p>\n",
       "</div>"
      ],
      "text/plain": [
       "                                Open       High        Low      Close  Volume  \\\n",
       "Date                                                                            \n",
       "2000-08-30 00:00:00-04:00   4.950000   4.950000   4.895000   4.930000    2319   \n",
       "2000-08-31 00:00:00-04:00   4.920000   5.045000   4.920000   5.003000    1612   \n",
       "2000-09-01 00:00:00-04:00   5.035000   5.035000   4.985000   5.004000    1375   \n",
       "2000-09-05 00:00:00-04:00   4.990000   5.005000   4.975000   4.998000     856   \n",
       "2000-09-06 00:00:00-04:00   5.000000   5.000000   4.980000   4.983000     232   \n",
       "...                              ...        ...        ...        ...     ...   \n",
       "2023-05-23 00:00:00-04:00  23.500000  23.629999  23.150000  23.474001     176   \n",
       "2023-05-24 00:00:00-04:00  23.434999  23.480000  23.065001  23.115000      13   \n",
       "2023-05-25 00:00:00-04:00  22.870001  22.985001  22.785999  22.785999      23   \n",
       "2023-05-26 00:00:00-04:00  23.129999  23.240000  23.115000  23.240000      23   \n",
       "2023-05-29 00:00:00-04:00  23.424999  23.510000  23.280001  23.344999   19369   \n",
       "\n",
       "                           Dividends  Stock Splits  \n",
       "Date                                                \n",
       "2000-08-30 00:00:00-04:00        0.0           0.0  \n",
       "2000-08-31 00:00:00-04:00        0.0           0.0  \n",
       "2000-09-01 00:00:00-04:00        0.0           0.0  \n",
       "2000-09-05 00:00:00-04:00        0.0           0.0  \n",
       "2000-09-06 00:00:00-04:00        0.0           0.0  \n",
       "...                              ...           ...  \n",
       "2023-05-23 00:00:00-04:00        0.0           0.0  \n",
       "2023-05-24 00:00:00-04:00        0.0           0.0  \n",
       "2023-05-25 00:00:00-04:00        0.0           0.0  \n",
       "2023-05-26 00:00:00-04:00        0.0           0.0  \n",
       "2023-05-29 00:00:00-04:00        0.0           0.0  \n",
       "\n",
       "[5708 rows x 7 columns]"
      ]
     },
     "execution_count": 50,
     "metadata": {},
     "output_type": "execute_result"
    }
   ],
   "source": [
    "SILVER"
   ]
  },
  {
   "cell_type": "code",
   "execution_count": 52,
   "id": "c957e0f1",
   "metadata": {},
   "outputs": [
    {
     "data": {
      "text/plain": [
       "<AxesSubplot:xlabel='Date'>"
      ]
     },
     "execution_count": 52,
     "metadata": {},
     "output_type": "execute_result"
    },
    {
     "data": {
      "image/png": "[encoded data removed]",
      "text/plain": [
       "<Figure size 432x288 with 1 Axes>"
      ]
     },
     "metadata": {
      "needs_background": "light"
     },
     "output_type": "display_data"
    }
   ],
   "source": [
    "#plotting closing price of data on trading days\n",
    "SILVER.plot.line(y=\"Close\", use_index=True)"
   ]
  },
  {
   "cell_type": "code",
   "execution_count": 53,
   "id": "217988d9",
   "metadata": {},
   "outputs": [],
   "source": [
    "#deleting unessesary columns\n",
    "del SILVER[\"Dividends\"]\n",
    "del SILVER[\"Stock Splits\"]"
   ]
  },
  {
   "cell_type": "code",
   "execution_count": 86,
   "id": "856e676d",
   "metadata": {},
   "outputs": [],
   "source": [
    "model2 = RandomForestRegressor()"
   ]
  },
  {
   "cell_type": "code",
   "execution_count": 88,
   "id": "42f11783",
   "metadata": {},
   "outputs": [
    {
     "data": {
      "text/plain": [
       "RandomForestRegressor()"
      ]
     },
     "execution_count": 88,
     "metadata": {},
     "output_type": "execute_result"
    }
   ],
   "source": [
    "#training the modeL FOR SILVER\n",
    "X1 = SILVER[['Open','High','Low','Volume']]\n",
    "#collecting all data in rows except the last one so that we can test the model\n",
    "X1 = X1[:int(len(SILVER)-1)]\n",
    "#creating the target dataset which is the closing price\n",
    "y1 = SILVER['Close']\n",
    "#collecting close prices except for the last one\n",
    "y1 = y1[:int(len(SILVER)-1)]\n",
    "#fit is another term for training.\n",
    "model2.fit(X1,y1)"
   ]
  },
  {
   "cell_type": "code",
   "execution_count": 89,
   "id": "2a4092d5",
   "metadata": {},
   "outputs": [
    {
     "name": "stdout",
     "output_type": "stream",
     "text": [
      "The model score is: 0.9999377431594839\n"
     ]
    }
   ],
   "source": [
    "#testing the model\n",
    "predictions1 = model2.predict(X1)\n",
    "print('The model score is:', model2.score(X1,y1))"
   ]
  },
  {
   "cell_type": "code",
   "execution_count": 90,
   "id": "73459291",
   "metadata": {},
   "outputs": [
    {
     "name": "stdout",
     "output_type": "stream",
     "text": [
      "The prediction is: [23.30349972]\n"
     ]
    }
   ],
   "source": [
    "#Making the predictions\n",
    "new_data1= SILVER[['Open','High','Low','Volume']].tail(1)\n",
    "prediction1 = model2.predict(new_data1)\n",
    "print('The prediction is:', prediction1)"
   ]
  },
  {
   "cell_type": "code",
   "execution_count": 91,
   "id": "9aff7dd2",
   "metadata": {},
   "outputs": [],
   "source": [
    "pickle.dump(model2, open('C:/Users/_Emjay04/Downloads/model/randRegfileSilver', 'wb'))"
   ]
  },
  {
   "cell_type": "code",
   "execution_count": 92,
   "id": "555cf859",
   "metadata": {},
   "outputs": [],
   "source": [
    "model_loadedSilver = pickle.load(open('C:/Users/_Emjay04/Downloads/model/randRegfileSilver', 'rb'))"
   ]
  },
  {
   "cell_type": "code",
   "execution_count": 93,
   "id": "fbb12e76",
   "metadata": {},
   "outputs": [
    {
     "data": {
      "text/plain": [
       "array([23.30349972])"
      ]
     },
     "execution_count": 93,
     "metadata": {},
     "output_type": "execute_result"
    }
   ],
   "source": [
    "model_loadedSilver.predict(new_data1)"
   ]
  }
 ],
 "metadata": {
  "kernelspec": {
   "display_name": "Python 3.9.12 ('base')",
   "language": "python",
   "name": "python3"
  },
  "language_info": {
   "codemirror_mode": {
    "name": "ipython",
    "version": 3
   },
   "file_extension": ".py",
   "mimetype": "text/x-python",
   "name": "python",
   "nbconvert_exporter": "python",
   "pygments_lexer": "ipython3",
   "version": "3.9.12"
  },
  "vscode": {
   "interpreter": {
    "hash": "26b3e0ce28c515849cd64beb2d8a1134110c9624ebeebed90c5589f60f17a782"
   }
  }
 },
 "nbformat": 4,
 "nbformat_minor": 5
}
